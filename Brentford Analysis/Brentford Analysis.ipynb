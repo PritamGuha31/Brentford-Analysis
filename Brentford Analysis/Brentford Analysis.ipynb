{
 "cells": [
  {
   "cell_type": "code",
   "execution_count": 1,
   "metadata": {},
   "outputs": [],
   "source": [
    "import pandas as pd\n",
    "import numpy as np"
   ]
  },
  {
   "cell_type": "code",
   "execution_count": null,
   "metadata": {},
   "outputs": [],
   "source": [
    "results_df = pd.read_csv('./datasets/2014-15 Championship Results.csv')\n",
    "results_df"
   ]
  },
  {
   "cell_type": "code",
   "execution_count": null,
   "metadata": {},
   "outputs": [],
   "source": [
    "results_df = results_df[results_df.Score.notnull()]\n",
    "results_df.drop(['Referee', 'Match Report', 'Notes', 'Attendance'], axis=1, inplace = True)\n",
    "results_df = results_df[results_df.Round == \"Regular Season\"]\n",
    "results_df"
   ]
  },
  {
   "cell_type": "code",
   "execution_count": null,
   "metadata": {},
   "outputs": [],
   "source": [
    "results_df['Home_Goals'] = results_df['Score'].astype(str).str[0]\n",
    "results_df['Away_Goals'] = results_df['Score'].astype(str).str[-1]\n",
    "results_df"
   ]
  },
  {
   "cell_type": "code",
   "execution_count": null,
   "metadata": {},
   "outputs": [],
   "source": [
    "results_df.dtypes"
   ]
  },
  {
   "cell_type": "code",
   "execution_count": null,
   "metadata": {},
   "outputs": [],
   "source": [
    "results_df.Wk = results_df.Wk.astype(int)\n",
    "results_df.Home_Goals = results_df.Home_Goals.astype(int)\n",
    "results_df.Away_Goals = results_df.Away_Goals.astype(int)\n",
    "results_df.dtypes"
   ]
  },
  {
   "cell_type": "code",
   "execution_count": null,
   "metadata": {},
   "outputs": [],
   "source": [
    "results_df.drop(['Score'], axis=1, inplace = True)\n",
    "results_df = results_df[['Round','Wk', 'Day', 'Time', 'Home', 'Home_Goals', 'Away', 'Away_Goals', 'Venue']]\n",
    "results_df"
   ]
  },
  {
   "cell_type": "code",
   "execution_count": null,
   "metadata": {},
   "outputs": [],
   "source": [
    "def calculateWinner(df):\n",
    "    if df.Home_Goals > df.Away_Goals:\n",
    "        return df.Home\n",
    "    elif df.Home_Goals < df.Away_Goals:\n",
    "        return df.Away\n",
    "    elif df.Home_Goals == df.Away_Goals:\n",
    "        return \"Draw\""
   ]
  },
  {
   "cell_type": "code",
   "execution_count": null,
   "metadata": {},
   "outputs": [],
   "source": [
    "results_df['Winner'] = results_df.apply(calculateWinner, axis=1)\n",
    "results_df"
   ]
  },
  {
   "cell_type": "code",
   "execution_count": null,
   "metadata": {},
   "outputs": [],
   "source": [
    "len(results_df.Winner.unique())"
   ]
  },
  {
   "cell_type": "code",
   "execution_count": null,
   "metadata": {},
   "outputs": [],
   "source": [
    "clubNames = list(results_df.Home.unique())\n",
    "pointsTable = {}\n",
    "for club in clubNames:\n",
    "    pointsTable[club] = [0,0,0,0,0,0,0] #Matches Played, Won, Lost, Drawn, Points, GF, GA\n",
    "pointsTable"
   ]
  },
  {
   "cell_type": "code",
   "execution_count": null,
   "metadata": {},
   "outputs": [],
   "source": [
    "brentford_stats = []\n",
    "for wkNo in range(1,47):\n",
    "    results_wk = results_df[results_df['Wk'] == wkNo]\n",
    "    for index, row in results_wk.iterrows():\n",
    "        if row['Winner'] == \"Draw\":\n",
    "            current_table_home = pointsTable[row['Home']]\n",
    "            current_table_away = pointsTable[row['Away']]\n",
    "            current_table_home[0] += 1\n",
    "            current_table_home[3] += 1\n",
    "            current_table_home[4] += 1\n",
    "            current_table_home[5] += row['Home_Goals']\n",
    "            current_table_home[6] += row['Away_Goals']\n",
    "            current_table_away[0] += 1\n",
    "            current_table_away[3] += 1\n",
    "            current_table_away[4] += 1\n",
    "            current_table_away[5] += row['Away_Goals']\n",
    "            current_table_away[6] += row['Home_Goals']\n",
    "            pointsTable[row['Home']] = current_table_home\n",
    "            pointsTable[row['Away']] = current_table_away\n",
    "        elif row['Winner'] == row['Home']:\n",
    "            current_table_home = pointsTable[row['Home']]\n",
    "            current_table_away = pointsTable[row['Away']]\n",
    "            current_table_home[0] += 1\n",
    "            current_table_home[1] += 1\n",
    "            current_table_home[4] += 3\n",
    "            current_table_home[5] += row['Home_Goals']\n",
    "            current_table_home[6] += row['Away_Goals']\n",
    "            current_table_away[0] += 1\n",
    "            current_table_away[2] += 1\n",
    "            current_table_away[5] += row['Away_Goals']\n",
    "            current_table_away[6] += row['Home_Goals']\n",
    "            pointsTable[row['Home']] = current_table_home\n",
    "            pointsTable[row['Away']] = current_table_away\n",
    "        elif row['Winner'] == row['Away']:\n",
    "            current_table_home = pointsTable[row['Home']]\n",
    "            current_table_away = pointsTable[row['Away']]\n",
    "            current_table_home[0] += 1\n",
    "            current_table_home[2] += 1\n",
    "            current_table_home[5] += row['Home_Goals']\n",
    "            current_table_home[6] += row['Away_Goals']\n",
    "            current_table_away[0] += 1\n",
    "            current_table_away[1] += 1\n",
    "            current_table_away[4] += 3\n",
    "            current_table_away[5] += row['Away_Goals']\n",
    "            current_table_away[6] += row['Home_Goals']\n",
    "    pointsTable_sorted = sorted(list(pointsTable.items()), key = lambda x : (x[1][4], x[1][5]-x[1][6], x[1][5]), reverse = True)\n",
    "    gw_stat = dict()\n",
    "    gw_stat['Round_Number'] = wkNo\n",
    "    gw_stat['Position'] = [i for i, tupl in enumerate(pointsTable_sorted) if tupl[0] == 'Brentford'][0] + 1\n",
    "    gw_stat['Points'] = dict(pointsTable_sorted)['Brentford'][4]\n",
    "    gw_stat['Goals_Scored'] = dict(pointsTable_sorted)['Brentford'][5]\n",
    "    brentford_stats.append(gw_stat)\n",
    "brentford_stats"
   ]
  },
  {
   "cell_type": "code",
   "execution_count": null,
   "metadata": {},
   "outputs": [],
   "source": [
    "brentford_stats_df = pd.DataFrame(brentford_stats)\n",
    "brentford_stats_df = brentford_stats_df[['Round_Number', 'Position', 'Points', 'Goals_Scored']]\n",
    "brentford_stats_df['Season'] = \"2014-15\"\n",
    "brentford_stats_df.to_csv('BrentfordStats2014-15.csv', sep=',', index=False)"
   ]
  },
  {
   "cell_type": "code",
   "execution_count": null,
   "metadata": {},
   "outputs": [],
   "source": [
    "dict(pointsTable_sorted)['Brentford'][5]"
   ]
  },
  {
   "cell_type": "code",
   "execution_count": null,
   "metadata": {},
   "outputs": [],
   "source": [
    "index = [i for i, tupl in enumerate(pointsTable_sorted) if tupl[0] == 'Brentford'][0]\n",
    "index"
   ]
  },
  {
   "cell_type": "code",
   "execution_count": 32,
   "metadata": {},
   "outputs": [],
   "source": [
    "departures = pd.read_csv('./datasets/Brentford Transfer Departures.csv')\n",
    "departures['Transfer Type'] = None"
   ]
  },
  {
   "cell_type": "code",
   "execution_count": 33,
   "metadata": {},
   "outputs": [],
   "source": [
    "for index, row in departures.iterrows():\n",
    "    row['Player'] = row['Player'][:-1]\n",
    "    row['To'] = row['To'][:-1]\n",
    "    \n",
    "    if row['Transfer Fee'][0] == \"£\":\n",
    "        row['Transfer Fee'] = row['Transfer Fee'][1:]\n",
    "    \n",
    "    if row['Transfer Fee'] == \"?\" or row['Transfer Fee'] == \"-\":\n",
    "        row['Transfer Fee'] = None\n",
    "    \n",
    "    if row['Transfer Fee'] is not None and row['Transfer Fee'][-1] == \"m\":\n",
    "        row['Transfer Fee'] = row['Transfer Fee'][:-1]\n",
    "        \n",
    "    if row['Transfer Fee'] is not None and row['Transfer Fee'].endswith('Th.'):\n",
    "        row['Transfer Fee'] = \"0.\" + row['Transfer Fee'][:-3]\n",
    "    \n",
    "    if row['Transfer Fee'] == \"End of loan\" or row['Transfer Fee'] == \"Free transfer\" or row['Transfer Fee'] == \"Loan\":\n",
    "        row['Transfer Type'] = row['Transfer Fee']\n",
    "        row['Transfer Fee'] = None\n",
    "    else:\n",
    "        row['Transfer Type'] = \"Direct\"\n",
    "departures.to_csv('Brentford Transfer Departures.csv', index=False)"
   ]
  },
  {
   "cell_type": "code",
   "execution_count": 23,
   "metadata": {},
   "outputs": [],
   "source": [
    "player_stats = pd.read_csv('./datasets/Championship Player Stats.csv')\n",
    "char = '\\\\'"
   ]
  },
  {
   "cell_type": "code",
   "execution_count": 24,
   "metadata": {},
   "outputs": [
    {
     "name": "stderr",
     "output_type": "stream",
     "text": [
      "c:\\users\\pg\\appdata\\local\\programs\\python\\python37-32\\lib\\site-packages\\ipykernel_launcher.py:5: FutureWarning: set_value is deprecated and will be removed in a future release. Please use .at[] or .iat[] accessors instead\n",
      "  \"\"\"\n"
     ]
    }
   ],
   "source": [
    "for index, row in player_stats.iterrows():\n",
    "    i = row['Player'].find(char)\n",
    "    temp = row['Player'][:i]\n",
    "    row['Player Name'] = temp\n",
    "    player_stats.set_value(index,'Player',temp)\n",
    "player_stats.to_csv('Championship Player Stats.csv')"
   ]
  },
  {
   "cell_type": "code",
   "execution_count": null,
   "metadata": {},
   "outputs": [],
   "source": []
  }
 ],
 "metadata": {
  "kernelspec": {
   "display_name": "Python 3",
   "language": "python",
   "name": "python3"
  },
  "language_info": {
   "codemirror_mode": {
    "name": "ipython",
    "version": 3
   },
   "file_extension": ".py",
   "mimetype": "text/x-python",
   "name": "python",
   "nbconvert_exporter": "python",
   "pygments_lexer": "ipython3",
   "version": "3.7.1"
  }
 },
 "nbformat": 4,
 "nbformat_minor": 2
}
